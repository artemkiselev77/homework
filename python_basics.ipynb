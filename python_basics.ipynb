{
 "cells": [
  {
   "cell_type": "markdown",
   "metadata": {},
   "source": [
    "**Задание 1**. Даны 2 строки: *long_phrase* и *short_phrase*. \n",
    "Напишите код, который проверяет действительно ли длинная фраза *long_phrase* длиннее короткой *short_phrase*. И выводит *True* или *False* в зависимости от результата сравнения."
   ]
  },
  {
   "cell_type": "code",
   "execution_count": 1,
   "metadata": {},
   "outputs": [],
   "source": [
    "long_phrase = 'Насколько проще было бы писать программы, если бы не заказчики'\n",
    "short_phrase = '640Кб должно хватить для любых задач. Билл Гейтс (по легенде)'"
   ]
  },
  {
   "cell_type": "code",
   "execution_count": 3,
   "metadata": {},
   "outputs": [
    {
     "data": {
      "text/plain": [
       "True"
      ]
     },
     "execution_count": 3,
     "metadata": {},
     "output_type": "execute_result"
    }
   ],
   "source": [
    "long_phrase > short_phrase"
   ]
  },
  {
   "cell_type": "markdown",
   "metadata": {},
   "source": [
    "**Задание 2**. Дано значение объема файла в байтах (*в мегабайте 2^20 байт*). Напишите перевод этого значения в мегабайты в формате: \"*Объем файла равен 213.68Mb*\"."
   ]
  },
  {
   "cell_type": "code",
   "execution_count": 6,
   "metadata": {},
   "outputs": [
    {
     "name": "stdout",
     "output_type": "stream",
     "text": [
      "введите объем в байтах:10000000\n",
      "Объем файла равен 9.5367431640625 Mb\n"
     ]
    }
   ],
   "source": [
    "bite = int(input('введите объем в байтах:'))\n",
    "megabite = bite / (2 ** 20)\n",
    "print('Объем файла равен', megabite,'Mb')"
   ]
  },
  {
   "cell_type": "markdown",
   "metadata": {},
   "source": [
    "**Задание 3**. Разработать приложение для определения знака зодиака по дате рождения. Пример:\n",
    "\n",
    "Введите месяц: март\n",
    "\n",
    "Введите число: 6\n",
    "\n",
    "Вывод:\n",
    "Рыбы"
   ]
  },
  {
   "cell_type": "code",
   "execution_count": 2,
   "metadata": {},
   "outputs": [
    {
     "name": "stdout",
     "output_type": "stream",
     "text": [
      "введите месяц:май\n",
      "введите число:17\n",
      "телец\n"
     ]
    }
   ],
   "source": [
    "month = input('введите месяц:')\n",
    "date = int(input('введите число:'))\n",
    "\n",
    "if month == 'январь' and date >= 20:\n",
    "        print('водолей')\n",
    "if month == 'февраль' and date <= 18:\n",
    "        print('водолей')\n",
    "\n",
    "\n",
    "if month == 'февраль' and date >= 19:\n",
    "        print('рыбы')\n",
    "if month == 'март' and date <= 20:\n",
    "        print('рыбы')\n",
    "if month == 'март' and date >= 21:\n",
    "        print('овен')\n",
    "if month == 'апрель' and date <= 19:\n",
    "        print('овен')\n",
    "if month == 'апрель' and date >= 20:\n",
    "        print('телец')\n",
    "if month == 'май' and date <= 20:\n",
    "        print('телец')\n",
    "if month == 'май' and date >= 21:\n",
    "        print('близнецы')\n",
    "if month == 'июнь' and date <= 20:\n",
    "        print('близнецы')\n",
    "if month == 'июнь' and date >= 21:\n",
    "        print('рак')\n",
    "if month == 'июль' and date <= 22:\n",
    "        print('рак')\n",
    "if month == 'июль' and date >= 23:\n",
    "        print('лев')\n",
    "if month == 'август' and date <= 22:\n",
    "        print('лев')\n",
    "if month == 'август' and date >= 23:\n",
    "        print('дева')\n",
    "if month == 'сентябрь' and date <= 22:\n",
    "        print('дева')\n",
    "if month == 'сентябрь' and date >= 23:\n",
    "        print('весы')\n",
    "if month == 'октябрь' and date <= 22:\n",
    "        print('весы')\n",
    "if month == 'октябрь' and date >= 23:\n",
    "        print('скорпион')\n",
    "if month == 'ноябрь' and date <= 21:\n",
    "        print('скорпион')\n",
    "if month == 'ноябрь' and date >= 22:\n",
    "        print('стрелец')\n",
    "if month == 'декабрь' and date <= 21:\n",
    "        print('стрелец')\n",
    "if month == 'декабрь' and date >= 22:\n",
    "        print('козерог')\n",
    "if month == 'январь' and date <= 19:\n",
    "        print('козерог')\n"
   ]
  },
  {
   "cell_type": "markdown",
   "metadata": {},
   "source": [
    "**Задание 4**. Нужно разработать приложение для финансового планирования.\n",
    "Приложение учитывает сколько уходит на ипотеку, \"на жизнь\" и сколько нужно отложить на пенсию.\n",
    "Пользователь вводит:\n",
    "- заработанную плату в месяц.\n",
    "- сколько процентов от ЗП уходит на ипотеку.\n",
    "- сколько процентов от ЗП уходит \"на жизнь\".\n",
    "- сколько раз приходит премия в год.\n",
    "\n",
    "Остальная часть заработанной платы откладывается на пенсию.\n",
    "\n",
    "Также пользователю приходит премия в размере зарплаты, от которой половина уходит на отпуск, а вторая половина откладывается.\n",
    "\n",
    "Программа должна учитывать сколько премий было в год.\n",
    "\n",
    "Нужно вывести сколько денег тратит пользователь на ипотеку и сколько он накопит за год.\n",
    "\n",
    "Пример:\n",
    "\n",
    "Введите заработанную плату в месяц: 100000\n",
    "\n",
    "Введите сколько процентов уходит на ипотеку: 30\n",
    "\n",
    "Введите сколько процентов уходит на жизнь: 50\n",
    "\n",
    "Введите количество премий за год: 2\n",
    "\n",
    "Вывод:\n",
    "На ипотеку было потрачено: 360000 рублей\n",
    "Было накоплено: 340000 рублей"
   ]
  },
  {
   "cell_type": "code",
   "execution_count": 1,
   "metadata": {},
   "outputs": [
    {
     "name": "stdout",
     "output_type": "stream",
     "text": [
      "Введите заработанную плату в месяц:30000\n",
      "Введите сколько процентов уходит на ипотеку:30\n",
      "Введите сколько процентов уходит на жизнь:20\n",
      "Введите количество премий за год:2\n",
      "На ипотеку было потрачено: 108000.0 р Было накоплено: 210000.0 р\n"
     ]
    }
   ],
   "source": [
    "zp = int(input('Введите заработанную плату в месяц:'))\n",
    "ipotek = int(input('Введите сколько процентов уходит на ипотеку:'))\n",
    "jizn = int(input('Введите сколько процентов уходит на жизнь:'))\n",
    "premia = int(input('Введите количество премий за год:'))\n",
    "\n",
    "ip1 = ((ipotek / 100) * zp) * 12\n",
    "jiz1 = ((jizn / 100) * zp) * 12\n",
    "zpgod = zp * 12\n",
    "otloj = zpgod - ip1 - jiz1\n",
    "premia1 = zp * 1\n",
    "otloj2 = (premia1 * premia) / 2\n",
    "otloj3 = otloj + otloj2\n",
    "\n",
    "\n",
    "print('На ипотеку было потрачено:', ip1,'р','Было накоплено:', otloj3,'р')"
   ]
  },
  {
   "cell_type": "code",
   "execution_count": null,
   "metadata": {},
   "outputs": [],
   "source": []
  }
 ],
 "metadata": {
  "kernelspec": {
   "display_name": "Python 3",
   "language": "python",
   "name": "python3"
  },
  "language_info": {
   "codemirror_mode": {
    "name": "ipython",
    "version": 3
   },
   "file_extension": ".py",
   "mimetype": "text/x-python",
   "name": "python",
   "nbconvert_exporter": "python",
   "pygments_lexer": "ipython3",
   "version": "3.7.6"
  }
 },
 "nbformat": 4,
 "nbformat_minor": 2
}
